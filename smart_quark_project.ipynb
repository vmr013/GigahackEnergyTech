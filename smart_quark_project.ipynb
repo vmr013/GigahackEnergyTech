{
  "nbformat": 4,
  "nbformat_minor": 0,
  "metadata": {
    "colab": {
      "provenance": [],
      "collapsed_sections": [
        "7GZaWBfWw9By",
        "jxVUw_NBaM-n",
        "7-4m29lovm0W"
      ]
    },
    "kernelspec": {
      "name": "python3",
      "display_name": "Python 3"
    },
    "language_info": {
      "name": "python"
    }
  },
  "cells": [
    {
      "cell_type": "markdown",
      "source": [
        "# Smart Quark Project"
      ],
      "metadata": {
        "id": "jVZ2YmkKm05-"
      }
    },
    {
      "cell_type": "markdown",
      "source": [
        "## Install dependencies"
      ],
      "metadata": {
        "id": "dUPKFG0umtvg"
      }
    },
    {
      "cell_type": "code",
      "execution_count": null,
      "metadata": {
        "id": "TqSqnWzSls4-",
        "colab": {
          "base_uri": "https://localhost:8080/"
        },
        "outputId": "a2d4e766-782c-40ce-f41a-f56e83a3913e"
      },
      "outputs": [
        {
          "output_type": "stream",
          "name": "stdout",
          "text": [
            "Requirement already satisfied: pandas in /usr/local/lib/python3.10/dist-packages (1.5.3)\n",
            "Requirement already satisfied: matplotlib in /usr/local/lib/python3.10/dist-packages (3.7.1)\n",
            "Requirement already satisfied: openpyxl in /usr/local/lib/python3.10/dist-packages (3.1.2)\n",
            "Requirement already satisfied: xgboost in /usr/local/lib/python3.10/dist-packages (1.7.6)\n",
            "Requirement already satisfied: python-dateutil>=2.8.1 in /usr/local/lib/python3.10/dist-packages (from pandas) (2.8.2)\n",
            "Requirement already satisfied: pytz>=2020.1 in /usr/local/lib/python3.10/dist-packages (from pandas) (2023.3.post1)\n",
            "Requirement already satisfied: numpy>=1.21.0 in /usr/local/lib/python3.10/dist-packages (from pandas) (1.23.5)\n",
            "Requirement already satisfied: contourpy>=1.0.1 in /usr/local/lib/python3.10/dist-packages (from matplotlib) (1.1.0)\n",
            "Requirement already satisfied: cycler>=0.10 in /usr/local/lib/python3.10/dist-packages (from matplotlib) (0.11.0)\n",
            "Requirement already satisfied: fonttools>=4.22.0 in /usr/local/lib/python3.10/dist-packages (from matplotlib) (4.42.1)\n",
            "Requirement already satisfied: kiwisolver>=1.0.1 in /usr/local/lib/python3.10/dist-packages (from matplotlib) (1.4.5)\n",
            "Requirement already satisfied: packaging>=20.0 in /usr/local/lib/python3.10/dist-packages (from matplotlib) (23.1)\n",
            "Requirement already satisfied: pillow>=6.2.0 in /usr/local/lib/python3.10/dist-packages (from matplotlib) (9.4.0)\n",
            "Requirement already satisfied: pyparsing>=2.3.1 in /usr/local/lib/python3.10/dist-packages (from matplotlib) (3.1.1)\n",
            "Requirement already satisfied: et-xmlfile in /usr/local/lib/python3.10/dist-packages (from openpyxl) (1.1.0)\n",
            "Requirement already satisfied: scipy in /usr/local/lib/python3.10/dist-packages (from xgboost) (1.10.1)\n",
            "Requirement already satisfied: six>=1.5 in /usr/local/lib/python3.10/dist-packages (from python-dateutil>=2.8.1->pandas) (1.16.0)\n"
          ]
        }
      ],
      "source": [
        "!pip install pandas matplotlib openpyxl xgboost"
      ]
    },
    {
      "cell_type": "markdown",
      "source": [
        "# Extract and load data"
      ],
      "metadata": {
        "id": "NW4cwdgeoeEK"
      }
    },
    {
      "cell_type": "markdown",
      "source": [
        "### Setup datasource and pandas defaults"
      ],
      "metadata": {
        "id": "iFpU_Y1Jbt42"
      }
    },
    {
      "cell_type": "code",
      "source": [
        "from google.colab import drive\n",
        "\n",
        "import pandas as pd\n",
        "\n",
        "drive.mount('/content/drive')\n",
        "\n",
        "pd.set_option('display.max_rows', 50)\n",
        "pd.set_option('display.max_columns', 50)\n"
      ],
      "metadata": {
        "colab": {
          "base_uri": "https://localhost:8080/"
        },
        "id": "sVPfUsjDbtOI",
        "outputId": "4052e5c8-e139-4880-eb58-b8ec84cbdbd1"
      },
      "execution_count": null,
      "outputs": [
        {
          "output_type": "stream",
          "name": "stdout",
          "text": [
            "Mounted at /content/drive\n"
          ]
        }
      ]
    },
    {
      "cell_type": "markdown",
      "source": [
        "## Wind power plants data"
      ],
      "metadata": {
        "id": "YiWpmrzAwXXX"
      }
    },
    {
      "cell_type": "markdown",
      "source": [
        "### Load data from datasource"
      ],
      "metadata": {
        "id": "wqo1LV26b7Q9"
      }
    },
    {
      "cell_type": "code",
      "source": [
        "MODEL_TYPE = 'WIND'\n",
        "d1 = pd.read_excel('/content/drive/MyDrive/ROW_DATA/Unit1_fin.xlsx')\n",
        "d2 = pd.read_excel('/content/drive/MyDrive/ROW_DATA/Unit2_fin.xlsx')\n",
        "d3 = pd.read_excel('/content/drive/MyDrive/ROW_DATA/Unit3_fin.xlsx')\n",
        "d4 = pd.read_excel('/content/drive/MyDrive/ROW_DATA/Unit4_fin.xlsx')\n",
        "d5 = pd.read_excel('/content/drive/MyDrive/ROW_DATA/Unit5_fin.xlsx')\n",
        "d6 = pd.read_excel('/content/drive/MyDrive/ROW_DATA/Unit6_fin.xlsx')\n",
        "d7 = pd.read_excel('/content/drive/MyDrive/ROW_DATA/Unit7_fin.xlsx')\n",
        "solar = pd.read_excel('/content/drive/MyDrive/ROW_DATA/Unit8_fin.xlsx')\n",
        "\n",
        "dfs = [d1, d2, d3, d4, d5, d6, d7]"
      ],
      "metadata": {
        "id": "RXfIOM1vcBYR"
      },
      "execution_count": 3,
      "outputs": []
    },
    {
      "cell_type": "markdown",
      "source": [
        "### Transform loaded dataframes"
      ],
      "metadata": {
        "id": "sP21R82mcUXX"
      }
    },
    {
      "cell_type": "code",
      "source": [
        "d2.rename(columns = {'Unnamed: 20':'Service'}, inplace = True)\n",
        "d6.rename(columns = {'Unnamed: 20':'Service'}, inplace = True)\n",
        "\n",
        "d2['Service'].replace('Service', 1, inplace=True)\n",
        "d2['Service']= d2['Service'].fillna(0)\n",
        "d6['Service'].replace('Service', 1, inplace=True)\n",
        "d6['Service']= d2['Service'].fillna(0)\n",
        "\n",
        "d1['Service'] = 0\n",
        "d3['Service'] = 0\n",
        "d4['Service'] = 0\n",
        "d5['Service'] = 0\n",
        "d7['Service'] = 0"
      ],
      "metadata": {
        "id": "ZM1NGEWmchMA"
      },
      "execution_count": 4,
      "outputs": []
    },
    {
      "cell_type": "markdown",
      "source": [
        "### Merge all dataframes into one dataset"
      ],
      "metadata": {
        "id": "P_SDOVZ6cm6h"
      }
    },
    {
      "cell_type": "code",
      "source": [
        "orignal_dataset = pd.concat([d1, d2, d3, d4, d5, d6, d7])\n",
        "dataset = pd.concat([d1, d2, d3, d4, d5, d6, d7])\n",
        "dataset['MaxLimit'] = dataset.apply(lambda x: x['ins_cap MW'] if x['Limitation to MW'] in ['NO', 'No', float('nan')] else min(x['ins_cap MW'], x['Limitation to MW']),axis=1)\n",
        "dataset.head(1)"
      ],
      "metadata": {
        "colab": {
          "base_uri": "https://localhost:8080/",
          "height": 153
        },
        "id": "IgX8CtOrc2Lw",
        "outputId": "2359a5db-b20e-4734-8c0d-0c1505305a2a"
      },
      "execution_count": 50,
      "outputs": [
        {
          "output_type": "execute_result",
          "data": {
            "text/plain": [
              "  wind_plant  ins_cap MW Limitation to MW  date_from             date_to  \\\n",
              "0      Unit1         1.3               NO 2023-01-03 2023-01-03 01:00:00   \n",
              "\n",
              "        utc  wind_speed (m/s)  wind_dir  temp  pressure   latitude  longitude  \\\n",
              "0  UTC+0200               4.8       228   2.2       992  48.212883  27.696193   \n",
              "\n",
              "  Turbine Model  Tower Height  Rotor Diameter  Production Year  START m/s  \\\n",
              "0    NORDEX N60            69              60             1999        2.5   \n",
              "\n",
              "   STOP  m/s  Forecast(mwh)  Real Prod(mwh)  Service  MaxLimit  \n",
              "0         25            NaN             NaN      0.0       1.3  "
            ],
            "text/html": [
              "\n",
              "  <div id=\"df-d894b1a8-8b9a-4005-ae14-8227ab9bb491\" class=\"colab-df-container\">\n",
              "    <div>\n",
              "<style scoped>\n",
              "    .dataframe tbody tr th:only-of-type {\n",
              "        vertical-align: middle;\n",
              "    }\n",
              "\n",
              "    .dataframe tbody tr th {\n",
              "        vertical-align: top;\n",
              "    }\n",
              "\n",
              "    .dataframe thead th {\n",
              "        text-align: right;\n",
              "    }\n",
              "</style>\n",
              "<table border=\"1\" class=\"dataframe\">\n",
              "  <thead>\n",
              "    <tr style=\"text-align: right;\">\n",
              "      <th></th>\n",
              "      <th>wind_plant</th>\n",
              "      <th>ins_cap MW</th>\n",
              "      <th>Limitation to MW</th>\n",
              "      <th>date_from</th>\n",
              "      <th>date_to</th>\n",
              "      <th>utc</th>\n",
              "      <th>wind_speed (m/s)</th>\n",
              "      <th>wind_dir</th>\n",
              "      <th>temp</th>\n",
              "      <th>pressure</th>\n",
              "      <th>latitude</th>\n",
              "      <th>longitude</th>\n",
              "      <th>Turbine Model</th>\n",
              "      <th>Tower Height</th>\n",
              "      <th>Rotor Diameter</th>\n",
              "      <th>Production Year</th>\n",
              "      <th>START m/s</th>\n",
              "      <th>STOP  m/s</th>\n",
              "      <th>Forecast(mwh)</th>\n",
              "      <th>Real Prod(mwh)</th>\n",
              "      <th>Service</th>\n",
              "      <th>MaxLimit</th>\n",
              "    </tr>\n",
              "  </thead>\n",
              "  <tbody>\n",
              "    <tr>\n",
              "      <th>0</th>\n",
              "      <td>Unit1</td>\n",
              "      <td>1.3</td>\n",
              "      <td>NO</td>\n",
              "      <td>2023-01-03</td>\n",
              "      <td>2023-01-03 01:00:00</td>\n",
              "      <td>UTC+0200</td>\n",
              "      <td>4.8</td>\n",
              "      <td>228</td>\n",
              "      <td>2.2</td>\n",
              "      <td>992</td>\n",
              "      <td>48.212883</td>\n",
              "      <td>27.696193</td>\n",
              "      <td>NORDEX N60</td>\n",
              "      <td>69</td>\n",
              "      <td>60</td>\n",
              "      <td>1999</td>\n",
              "      <td>2.5</td>\n",
              "      <td>25</td>\n",
              "      <td>NaN</td>\n",
              "      <td>NaN</td>\n",
              "      <td>0.0</td>\n",
              "      <td>1.3</td>\n",
              "    </tr>\n",
              "  </tbody>\n",
              "</table>\n",
              "</div>\n",
              "    <div class=\"colab-df-buttons\">\n",
              "\n",
              "  <div class=\"colab-df-container\">\n",
              "    <button class=\"colab-df-convert\" onclick=\"convertToInteractive('df-d894b1a8-8b9a-4005-ae14-8227ab9bb491')\"\n",
              "            title=\"Convert this dataframe to an interactive table.\"\n",
              "            style=\"display:none;\">\n",
              "\n",
              "  <svg xmlns=\"http://www.w3.org/2000/svg\" height=\"24px\" viewBox=\"0 -960 960 960\">\n",
              "    <path d=\"M120-120v-720h720v720H120Zm60-500h600v-160H180v160Zm220 220h160v-160H400v160Zm0 220h160v-160H400v160ZM180-400h160v-160H180v160Zm440 0h160v-160H620v160ZM180-180h160v-160H180v160Zm440 0h160v-160H620v160Z\"/>\n",
              "  </svg>\n",
              "    </button>\n",
              "\n",
              "  <style>\n",
              "    .colab-df-container {\n",
              "      display:flex;\n",
              "      gap: 12px;\n",
              "    }\n",
              "\n",
              "    .colab-df-convert {\n",
              "      background-color: #E8F0FE;\n",
              "      border: none;\n",
              "      border-radius: 50%;\n",
              "      cursor: pointer;\n",
              "      display: none;\n",
              "      fill: #1967D2;\n",
              "      height: 32px;\n",
              "      padding: 0 0 0 0;\n",
              "      width: 32px;\n",
              "    }\n",
              "\n",
              "    .colab-df-convert:hover {\n",
              "      background-color: #E2EBFA;\n",
              "      box-shadow: 0px 1px 2px rgba(60, 64, 67, 0.3), 0px 1px 3px 1px rgba(60, 64, 67, 0.15);\n",
              "      fill: #174EA6;\n",
              "    }\n",
              "\n",
              "    .colab-df-buttons div {\n",
              "      margin-bottom: 4px;\n",
              "    }\n",
              "\n",
              "    [theme=dark] .colab-df-convert {\n",
              "      background-color: #3B4455;\n",
              "      fill: #D2E3FC;\n",
              "    }\n",
              "\n",
              "    [theme=dark] .colab-df-convert:hover {\n",
              "      background-color: #434B5C;\n",
              "      box-shadow: 0px 1px 3px 1px rgba(0, 0, 0, 0.15);\n",
              "      filter: drop-shadow(0px 1px 2px rgba(0, 0, 0, 0.3));\n",
              "      fill: #FFFFFF;\n",
              "    }\n",
              "  </style>\n",
              "\n",
              "    <script>\n",
              "      const buttonEl =\n",
              "        document.querySelector('#df-d894b1a8-8b9a-4005-ae14-8227ab9bb491 button.colab-df-convert');\n",
              "      buttonEl.style.display =\n",
              "        google.colab.kernel.accessAllowed ? 'block' : 'none';\n",
              "\n",
              "      async function convertToInteractive(key) {\n",
              "        const element = document.querySelector('#df-d894b1a8-8b9a-4005-ae14-8227ab9bb491');\n",
              "        const dataTable =\n",
              "          await google.colab.kernel.invokeFunction('convertToInteractive',\n",
              "                                                    [key], {});\n",
              "        if (!dataTable) return;\n",
              "\n",
              "        const docLinkHtml = 'Like what you see? Visit the ' +\n",
              "          '<a target=\"_blank\" href=https://colab.research.google.com/notebooks/data_table.ipynb>data table notebook</a>'\n",
              "          + ' to learn more about interactive tables.';\n",
              "        element.innerHTML = '';\n",
              "        dataTable['output_type'] = 'display_data';\n",
              "        await google.colab.output.renderOutput(dataTable, element);\n",
              "        const docLink = document.createElement('div');\n",
              "        docLink.innerHTML = docLinkHtml;\n",
              "        element.appendChild(docLink);\n",
              "      }\n",
              "    </script>\n",
              "  </div>\n",
              "\n",
              "    </div>\n",
              "  </div>\n"
            ]
          },
          "metadata": {},
          "execution_count": 50
        }
      ]
    },
    {
      "cell_type": "markdown",
      "source": [
        "### Encode Turbine model using sklearn LabelEncodel"
      ],
      "metadata": {
        "id": "AEm90I-oengf"
      }
    },
    {
      "cell_type": "code",
      "source": [
        "from sklearn.preprocessing import LabelEncoder\n",
        "\n",
        "label_encoder = LabelEncoder()\n",
        "dataset['Turbine Model'] = label_encoder.fit_transform(dataset['Turbine Model'])"
      ],
      "metadata": {
        "id": "r_30np0nenFt"
      },
      "execution_count": 6,
      "outputs": []
    },
    {
      "cell_type": "markdown",
      "source": [
        "### Remove redundant columns and drop NA values"
      ],
      "metadata": {
        "id": "5_xwICsUeTJ_"
      }
    },
    {
      "cell_type": "code",
      "source": [
        "dataset.drop(['ins_cap MW', 'Limitation to MW','date_from',\t'date_to','wind_plant',\t'utc', 'Forecast(mwh)','latitude',\t'longitude'], axis=1, inplace=True)\n",
        "dataset.dropna(inplace=True)"
      ],
      "metadata": {
        "id": "jc6iXUnCeR1l"
      },
      "execution_count": 7,
      "outputs": []
    },
    {
      "cell_type": "markdown",
      "source": [
        "### Filter data for training"
      ],
      "metadata": {
        "id": "kxx197MpgluS"
      }
    },
    {
      "cell_type": "code",
      "source": [
        "X = dataset[['wind_speed (m/s)', 'wind_dir', 'temp', 'pressure', 'Turbine Model',\n",
        "       'Tower Height', 'Rotor Diameter', 'Production Year', 'START m/s',\n",
        "       'STOP  m/s', 'Service', 'MaxLimit']]\n",
        "\n",
        "Y = dataset[\"Real Prod(mwh)\"]"
      ],
      "metadata": {
        "id": "aQhmAx10oAbb"
      },
      "execution_count": 75,
      "outputs": []
    },
    {
      "cell_type": "markdown",
      "source": [
        "## Solar data"
      ],
      "metadata": {
        "id": "D30KV3irxapS"
      }
    },
    {
      "cell_type": "markdown",
      "source": [
        "### Read solar power plant data"
      ],
      "metadata": {
        "id": "nRCZiAD207O6"
      }
    },
    {
      "cell_type": "code",
      "source": [
        "MODEL_TYPE = 'SOLAR'\n",
        "solar_df = pd.read_excel('/content/drive/MyDrive/Unit8_fin_.xlsx')\n",
        "solar_df.head(1)"
      ],
      "metadata": {
        "colab": {
          "base_uri": "https://localhost:8080/",
          "height": 188
        },
        "id": "xTf_Mssl044h",
        "outputId": "06c52444-44d6-414a-f3df-5cc3cda8d94f"
      },
      "execution_count": 56,
      "outputs": [
        {
          "output_type": "execute_result",
          "data": {
            "text/plain": [
              "  PVSolarPlant InsCap(MW)  From Year From Time    To Year To Time  \\\n",
              "0        Unit8      1.1MW 2023-07-01     00:00 2023-07-01   01:00   \n",
              "\n",
              "  UTC offset(HHmm)   latitude  longitude  Forecast (mwh)  Real Prod(mwh)  \\\n",
              "0            UTC+3  46.953021  28.755979             NaN             0.0   \n",
              "\n",
              "   Total installed capacity KW  Nr_modules  Module capacity W  \\\n",
              "0                         1100        1834                600   \n",
              "\n",
              "                   Model  Nr_inverters  Inverter capacity KW  \\\n",
              "0  600W Risen 120-8-600M             9                   110   \n",
              "\n",
              "                    Inverter  Tracker_type Orientation  \n",
              "0  GROWATT MAX 110 KTL3-X LV  fixed panels  South-West  "
            ],
            "text/html": [
              "\n",
              "  <div id=\"df-4a19dec9-7953-4568-bf61-5cd331bf56ad\" class=\"colab-df-container\">\n",
              "    <div>\n",
              "<style scoped>\n",
              "    .dataframe tbody tr th:only-of-type {\n",
              "        vertical-align: middle;\n",
              "    }\n",
              "\n",
              "    .dataframe tbody tr th {\n",
              "        vertical-align: top;\n",
              "    }\n",
              "\n",
              "    .dataframe thead th {\n",
              "        text-align: right;\n",
              "    }\n",
              "</style>\n",
              "<table border=\"1\" class=\"dataframe\">\n",
              "  <thead>\n",
              "    <tr style=\"text-align: right;\">\n",
              "      <th></th>\n",
              "      <th>PVSolarPlant</th>\n",
              "      <th>InsCap(MW)</th>\n",
              "      <th>From Year</th>\n",
              "      <th>From Time</th>\n",
              "      <th>To Year</th>\n",
              "      <th>To Time</th>\n",
              "      <th>UTC offset(HHmm)</th>\n",
              "      <th>latitude</th>\n",
              "      <th>longitude</th>\n",
              "      <th>Forecast (mwh)</th>\n",
              "      <th>Real Prod(mwh)</th>\n",
              "      <th>Total installed capacity KW</th>\n",
              "      <th>Nr_modules</th>\n",
              "      <th>Module capacity W</th>\n",
              "      <th>Model</th>\n",
              "      <th>Nr_inverters</th>\n",
              "      <th>Inverter capacity KW</th>\n",
              "      <th>Inverter</th>\n",
              "      <th>Tracker_type</th>\n",
              "      <th>Orientation</th>\n",
              "    </tr>\n",
              "  </thead>\n",
              "  <tbody>\n",
              "    <tr>\n",
              "      <th>0</th>\n",
              "      <td>Unit8</td>\n",
              "      <td>1.1MW</td>\n",
              "      <td>2023-07-01</td>\n",
              "      <td>00:00</td>\n",
              "      <td>2023-07-01</td>\n",
              "      <td>01:00</td>\n",
              "      <td>UTC+3</td>\n",
              "      <td>46.953021</td>\n",
              "      <td>28.755979</td>\n",
              "      <td>NaN</td>\n",
              "      <td>0.0</td>\n",
              "      <td>1100</td>\n",
              "      <td>1834</td>\n",
              "      <td>600</td>\n",
              "      <td>600W Risen 120-8-600M</td>\n",
              "      <td>9</td>\n",
              "      <td>110</td>\n",
              "      <td>GROWATT MAX 110 KTL3-X LV</td>\n",
              "      <td>fixed panels</td>\n",
              "      <td>South-West</td>\n",
              "    </tr>\n",
              "  </tbody>\n",
              "</table>\n",
              "</div>\n",
              "    <div class=\"colab-df-buttons\">\n",
              "\n",
              "  <div class=\"colab-df-container\">\n",
              "    <button class=\"colab-df-convert\" onclick=\"convertToInteractive('df-4a19dec9-7953-4568-bf61-5cd331bf56ad')\"\n",
              "            title=\"Convert this dataframe to an interactive table.\"\n",
              "            style=\"display:none;\">\n",
              "\n",
              "  <svg xmlns=\"http://www.w3.org/2000/svg\" height=\"24px\" viewBox=\"0 -960 960 960\">\n",
              "    <path d=\"M120-120v-720h720v720H120Zm60-500h600v-160H180v160Zm220 220h160v-160H400v160Zm0 220h160v-160H400v160ZM180-400h160v-160H180v160Zm440 0h160v-160H620v160ZM180-180h160v-160H180v160Zm440 0h160v-160H620v160Z\"/>\n",
              "  </svg>\n",
              "    </button>\n",
              "\n",
              "  <style>\n",
              "    .colab-df-container {\n",
              "      display:flex;\n",
              "      gap: 12px;\n",
              "    }\n",
              "\n",
              "    .colab-df-convert {\n",
              "      background-color: #E8F0FE;\n",
              "      border: none;\n",
              "      border-radius: 50%;\n",
              "      cursor: pointer;\n",
              "      display: none;\n",
              "      fill: #1967D2;\n",
              "      height: 32px;\n",
              "      padding: 0 0 0 0;\n",
              "      width: 32px;\n",
              "    }\n",
              "\n",
              "    .colab-df-convert:hover {\n",
              "      background-color: #E2EBFA;\n",
              "      box-shadow: 0px 1px 2px rgba(60, 64, 67, 0.3), 0px 1px 3px 1px rgba(60, 64, 67, 0.15);\n",
              "      fill: #174EA6;\n",
              "    }\n",
              "\n",
              "    .colab-df-buttons div {\n",
              "      margin-bottom: 4px;\n",
              "    }\n",
              "\n",
              "    [theme=dark] .colab-df-convert {\n",
              "      background-color: #3B4455;\n",
              "      fill: #D2E3FC;\n",
              "    }\n",
              "\n",
              "    [theme=dark] .colab-df-convert:hover {\n",
              "      background-color: #434B5C;\n",
              "      box-shadow: 0px 1px 3px 1px rgba(0, 0, 0, 0.15);\n",
              "      filter: drop-shadow(0px 1px 2px rgba(0, 0, 0, 0.3));\n",
              "      fill: #FFFFFF;\n",
              "    }\n",
              "  </style>\n",
              "\n",
              "    <script>\n",
              "      const buttonEl =\n",
              "        document.querySelector('#df-4a19dec9-7953-4568-bf61-5cd331bf56ad button.colab-df-convert');\n",
              "      buttonEl.style.display =\n",
              "        google.colab.kernel.accessAllowed ? 'block' : 'none';\n",
              "\n",
              "      async function convertToInteractive(key) {\n",
              "        const element = document.querySelector('#df-4a19dec9-7953-4568-bf61-5cd331bf56ad');\n",
              "        const dataTable =\n",
              "          await google.colab.kernel.invokeFunction('convertToInteractive',\n",
              "                                                    [key], {});\n",
              "        if (!dataTable) return;\n",
              "\n",
              "        const docLinkHtml = 'Like what you see? Visit the ' +\n",
              "          '<a target=\"_blank\" href=https://colab.research.google.com/notebooks/data_table.ipynb>data table notebook</a>'\n",
              "          + ' to learn more about interactive tables.';\n",
              "        element.innerHTML = '';\n",
              "        dataTable['output_type'] = 'display_data';\n",
              "        await google.colab.output.renderOutput(dataTable, element);\n",
              "        const docLink = document.createElement('div');\n",
              "        docLink.innerHTML = docLinkHtml;\n",
              "        element.appendChild(docLink);\n",
              "      }\n",
              "    </script>\n",
              "  </div>\n",
              "\n",
              "    </div>\n",
              "  </div>\n"
            ]
          },
          "metadata": {},
          "execution_count": 56
        }
      ]
    },
    {
      "cell_type": "code",
      "source": [
        "import requests\n",
        "\n",
        "response = requests.get('https://api.open-meteo.com/v1/forecast?latitude=46.953021&longitude=28.755979&hourly=precipitation_probability,cloudcover,uv_index,is_day&windspeed_unit=ms&timezone=auto&start_date=2023-07-01&end_date=2023-07-31')\n",
        "weather_data = response.json()\n",
        "\n",
        "weather_df = pd.DataFrame.from_dict(weather_data['hourly'])\n",
        "weather_df.head(1)"
      ],
      "metadata": {
        "colab": {
          "base_uri": "https://localhost:8080/",
          "height": 81
        },
        "id": "55woXDuQxjOQ",
        "outputId": "2bc1ea20-6d8b-4931-80b3-5e846e466f8e"
      },
      "execution_count": 57,
      "outputs": [
        {
          "output_type": "execute_result",
          "data": {
            "text/plain": [
              "               time  precipitation_probability  cloudcover  uv_index  is_day\n",
              "0  2023-07-01T00:00                          0           0       0.0       0"
            ],
            "text/html": [
              "\n",
              "  <div id=\"df-acb0e0cf-3cc7-4142-9350-f45a56354d6a\" class=\"colab-df-container\">\n",
              "    <div>\n",
              "<style scoped>\n",
              "    .dataframe tbody tr th:only-of-type {\n",
              "        vertical-align: middle;\n",
              "    }\n",
              "\n",
              "    .dataframe tbody tr th {\n",
              "        vertical-align: top;\n",
              "    }\n",
              "\n",
              "    .dataframe thead th {\n",
              "        text-align: right;\n",
              "    }\n",
              "</style>\n",
              "<table border=\"1\" class=\"dataframe\">\n",
              "  <thead>\n",
              "    <tr style=\"text-align: right;\">\n",
              "      <th></th>\n",
              "      <th>time</th>\n",
              "      <th>precipitation_probability</th>\n",
              "      <th>cloudcover</th>\n",
              "      <th>uv_index</th>\n",
              "      <th>is_day</th>\n",
              "    </tr>\n",
              "  </thead>\n",
              "  <tbody>\n",
              "    <tr>\n",
              "      <th>0</th>\n",
              "      <td>2023-07-01T00:00</td>\n",
              "      <td>0</td>\n",
              "      <td>0</td>\n",
              "      <td>0.0</td>\n",
              "      <td>0</td>\n",
              "    </tr>\n",
              "  </tbody>\n",
              "</table>\n",
              "</div>\n",
              "    <div class=\"colab-df-buttons\">\n",
              "\n",
              "  <div class=\"colab-df-container\">\n",
              "    <button class=\"colab-df-convert\" onclick=\"convertToInteractive('df-acb0e0cf-3cc7-4142-9350-f45a56354d6a')\"\n",
              "            title=\"Convert this dataframe to an interactive table.\"\n",
              "            style=\"display:none;\">\n",
              "\n",
              "  <svg xmlns=\"http://www.w3.org/2000/svg\" height=\"24px\" viewBox=\"0 -960 960 960\">\n",
              "    <path d=\"M120-120v-720h720v720H120Zm60-500h600v-160H180v160Zm220 220h160v-160H400v160Zm0 220h160v-160H400v160ZM180-400h160v-160H180v160Zm440 0h160v-160H620v160ZM180-180h160v-160H180v160Zm440 0h160v-160H620v160Z\"/>\n",
              "  </svg>\n",
              "    </button>\n",
              "\n",
              "  <style>\n",
              "    .colab-df-container {\n",
              "      display:flex;\n",
              "      gap: 12px;\n",
              "    }\n",
              "\n",
              "    .colab-df-convert {\n",
              "      background-color: #E8F0FE;\n",
              "      border: none;\n",
              "      border-radius: 50%;\n",
              "      cursor: pointer;\n",
              "      display: none;\n",
              "      fill: #1967D2;\n",
              "      height: 32px;\n",
              "      padding: 0 0 0 0;\n",
              "      width: 32px;\n",
              "    }\n",
              "\n",
              "    .colab-df-convert:hover {\n",
              "      background-color: #E2EBFA;\n",
              "      box-shadow: 0px 1px 2px rgba(60, 64, 67, 0.3), 0px 1px 3px 1px rgba(60, 64, 67, 0.15);\n",
              "      fill: #174EA6;\n",
              "    }\n",
              "\n",
              "    .colab-df-buttons div {\n",
              "      margin-bottom: 4px;\n",
              "    }\n",
              "\n",
              "    [theme=dark] .colab-df-convert {\n",
              "      background-color: #3B4455;\n",
              "      fill: #D2E3FC;\n",
              "    }\n",
              "\n",
              "    [theme=dark] .colab-df-convert:hover {\n",
              "      background-color: #434B5C;\n",
              "      box-shadow: 0px 1px 3px 1px rgba(0, 0, 0, 0.15);\n",
              "      filter: drop-shadow(0px 1px 2px rgba(0, 0, 0, 0.3));\n",
              "      fill: #FFFFFF;\n",
              "    }\n",
              "  </style>\n",
              "\n",
              "    <script>\n",
              "      const buttonEl =\n",
              "        document.querySelector('#df-acb0e0cf-3cc7-4142-9350-f45a56354d6a button.colab-df-convert');\n",
              "      buttonEl.style.display =\n",
              "        google.colab.kernel.accessAllowed ? 'block' : 'none';\n",
              "\n",
              "      async function convertToInteractive(key) {\n",
              "        const element = document.querySelector('#df-acb0e0cf-3cc7-4142-9350-f45a56354d6a');\n",
              "        const dataTable =\n",
              "          await google.colab.kernel.invokeFunction('convertToInteractive',\n",
              "                                                    [key], {});\n",
              "        if (!dataTable) return;\n",
              "\n",
              "        const docLinkHtml = 'Like what you see? Visit the ' +\n",
              "          '<a target=\"_blank\" href=https://colab.research.google.com/notebooks/data_table.ipynb>data table notebook</a>'\n",
              "          + ' to learn more about interactive tables.';\n",
              "        element.innerHTML = '';\n",
              "        dataTable['output_type'] = 'display_data';\n",
              "        await google.colab.output.renderOutput(dataTable, element);\n",
              "        const docLink = document.createElement('div');\n",
              "        docLink.innerHTML = docLinkHtml;\n",
              "        element.appendChild(docLink);\n",
              "      }\n",
              "    </script>\n",
              "  </div>\n",
              "\n",
              "    </div>\n",
              "  </div>\n"
            ]
          },
          "metadata": {},
          "execution_count": 57
        }
      ]
    },
    {
      "cell_type": "code",
      "source": [
        "solar_base_dataset = pd.merge(solar_df, weather_df, left_index=True, right_index=True)\n",
        "\n",
        "solar_dataset = solar_base_dataset[[\n",
        "    'time',\n",
        "    'InsCap(MW)',\n",
        "    'Total installed capacity KW',\n",
        "    'Nr_modules',\n",
        "    'Module capacity W',\n",
        "    'Model',\n",
        "    'Nr_inverters',\n",
        "    'Inverter capacity KW',\n",
        "    'Inverter',\n",
        "    'Tracker_type',\n",
        "    'Orientation',\n",
        "    'precipitation_probability',\n",
        "    'cloudcover',\n",
        "    'uv_index',\n",
        "    'is_day',\n",
        "    'Real Prod(mwh)'\n",
        "    ]]\n",
        "solar_dataset.head(1)"
      ],
      "metadata": {
        "colab": {
          "base_uri": "https://localhost:8080/",
          "height": 188
        },
        "id": "N7RW93bl2BZe",
        "outputId": "9580dd13-bea7-4da7-f601-f66b4e01a00e"
      },
      "execution_count": 58,
      "outputs": [
        {
          "output_type": "execute_result",
          "data": {
            "text/plain": [
              "               time InsCap(MW)  Total installed capacity KW  Nr_modules  \\\n",
              "0  2023-07-01T00:00      1.1MW                         1100        1834   \n",
              "\n",
              "   Module capacity W                  Model  Nr_inverters  \\\n",
              "0                600  600W Risen 120-8-600M             9   \n",
              "\n",
              "   Inverter capacity KW                   Inverter  Tracker_type Orientation  \\\n",
              "0                   110  GROWATT MAX 110 KTL3-X LV  fixed panels  South-West   \n",
              "\n",
              "   precipitation_probability  cloudcover  uv_index  is_day  Real Prod(mwh)  \n",
              "0                          0           0       0.0       0             0.0  "
            ],
            "text/html": [
              "\n",
              "  <div id=\"df-b723ff4d-0864-4b5e-9e5f-ca3e6e4c5714\" class=\"colab-df-container\">\n",
              "    <div>\n",
              "<style scoped>\n",
              "    .dataframe tbody tr th:only-of-type {\n",
              "        vertical-align: middle;\n",
              "    }\n",
              "\n",
              "    .dataframe tbody tr th {\n",
              "        vertical-align: top;\n",
              "    }\n",
              "\n",
              "    .dataframe thead th {\n",
              "        text-align: right;\n",
              "    }\n",
              "</style>\n",
              "<table border=\"1\" class=\"dataframe\">\n",
              "  <thead>\n",
              "    <tr style=\"text-align: right;\">\n",
              "      <th></th>\n",
              "      <th>time</th>\n",
              "      <th>InsCap(MW)</th>\n",
              "      <th>Total installed capacity KW</th>\n",
              "      <th>Nr_modules</th>\n",
              "      <th>Module capacity W</th>\n",
              "      <th>Model</th>\n",
              "      <th>Nr_inverters</th>\n",
              "      <th>Inverter capacity KW</th>\n",
              "      <th>Inverter</th>\n",
              "      <th>Tracker_type</th>\n",
              "      <th>Orientation</th>\n",
              "      <th>precipitation_probability</th>\n",
              "      <th>cloudcover</th>\n",
              "      <th>uv_index</th>\n",
              "      <th>is_day</th>\n",
              "      <th>Real Prod(mwh)</th>\n",
              "    </tr>\n",
              "  </thead>\n",
              "  <tbody>\n",
              "    <tr>\n",
              "      <th>0</th>\n",
              "      <td>2023-07-01T00:00</td>\n",
              "      <td>1.1MW</td>\n",
              "      <td>1100</td>\n",
              "      <td>1834</td>\n",
              "      <td>600</td>\n",
              "      <td>600W Risen 120-8-600M</td>\n",
              "      <td>9</td>\n",
              "      <td>110</td>\n",
              "      <td>GROWATT MAX 110 KTL3-X LV</td>\n",
              "      <td>fixed panels</td>\n",
              "      <td>South-West</td>\n",
              "      <td>0</td>\n",
              "      <td>0</td>\n",
              "      <td>0.0</td>\n",
              "      <td>0</td>\n",
              "      <td>0.0</td>\n",
              "    </tr>\n",
              "  </tbody>\n",
              "</table>\n",
              "</div>\n",
              "    <div class=\"colab-df-buttons\">\n",
              "\n",
              "  <div class=\"colab-df-container\">\n",
              "    <button class=\"colab-df-convert\" onclick=\"convertToInteractive('df-b723ff4d-0864-4b5e-9e5f-ca3e6e4c5714')\"\n",
              "            title=\"Convert this dataframe to an interactive table.\"\n",
              "            style=\"display:none;\">\n",
              "\n",
              "  <svg xmlns=\"http://www.w3.org/2000/svg\" height=\"24px\" viewBox=\"0 -960 960 960\">\n",
              "    <path d=\"M120-120v-720h720v720H120Zm60-500h600v-160H180v160Zm220 220h160v-160H400v160Zm0 220h160v-160H400v160ZM180-400h160v-160H180v160Zm440 0h160v-160H620v160ZM180-180h160v-160H180v160Zm440 0h160v-160H620v160Z\"/>\n",
              "  </svg>\n",
              "    </button>\n",
              "\n",
              "  <style>\n",
              "    .colab-df-container {\n",
              "      display:flex;\n",
              "      gap: 12px;\n",
              "    }\n",
              "\n",
              "    .colab-df-convert {\n",
              "      background-color: #E8F0FE;\n",
              "      border: none;\n",
              "      border-radius: 50%;\n",
              "      cursor: pointer;\n",
              "      display: none;\n",
              "      fill: #1967D2;\n",
              "      height: 32px;\n",
              "      padding: 0 0 0 0;\n",
              "      width: 32px;\n",
              "    }\n",
              "\n",
              "    .colab-df-convert:hover {\n",
              "      background-color: #E2EBFA;\n",
              "      box-shadow: 0px 1px 2px rgba(60, 64, 67, 0.3), 0px 1px 3px 1px rgba(60, 64, 67, 0.15);\n",
              "      fill: #174EA6;\n",
              "    }\n",
              "\n",
              "    .colab-df-buttons div {\n",
              "      margin-bottom: 4px;\n",
              "    }\n",
              "\n",
              "    [theme=dark] .colab-df-convert {\n",
              "      background-color: #3B4455;\n",
              "      fill: #D2E3FC;\n",
              "    }\n",
              "\n",
              "    [theme=dark] .colab-df-convert:hover {\n",
              "      background-color: #434B5C;\n",
              "      box-shadow: 0px 1px 3px 1px rgba(0, 0, 0, 0.15);\n",
              "      filter: drop-shadow(0px 1px 2px rgba(0, 0, 0, 0.3));\n",
              "      fill: #FFFFFF;\n",
              "    }\n",
              "  </style>\n",
              "\n",
              "    <script>\n",
              "      const buttonEl =\n",
              "        document.querySelector('#df-b723ff4d-0864-4b5e-9e5f-ca3e6e4c5714 button.colab-df-convert');\n",
              "      buttonEl.style.display =\n",
              "        google.colab.kernel.accessAllowed ? 'block' : 'none';\n",
              "\n",
              "      async function convertToInteractive(key) {\n",
              "        const element = document.querySelector('#df-b723ff4d-0864-4b5e-9e5f-ca3e6e4c5714');\n",
              "        const dataTable =\n",
              "          await google.colab.kernel.invokeFunction('convertToInteractive',\n",
              "                                                    [key], {});\n",
              "        if (!dataTable) return;\n",
              "\n",
              "        const docLinkHtml = 'Like what you see? Visit the ' +\n",
              "          '<a target=\"_blank\" href=https://colab.research.google.com/notebooks/data_table.ipynb>data table notebook</a>'\n",
              "          + ' to learn more about interactive tables.';\n",
              "        element.innerHTML = '';\n",
              "        dataTable['output_type'] = 'display_data';\n",
              "        await google.colab.output.renderOutput(dataTable, element);\n",
              "        const docLink = document.createElement('div');\n",
              "        docLink.innerHTML = docLinkHtml;\n",
              "        element.appendChild(docLink);\n",
              "      }\n",
              "    </script>\n",
              "  </div>\n",
              "\n",
              "    </div>\n",
              "  </div>\n"
            ]
          },
          "metadata": {},
          "execution_count": 58
        }
      ]
    },
    {
      "cell_type": "code",
      "source": [
        "\n",
        "label_encoder = LabelEncoder()\n",
        "\n",
        "solar_dataset['InsCap(MW)'] = 1.1 # TODO change to proper conversion\n",
        "solar_dataset['Model'] = label_encoder.fit_transform(solar_dataset['Model'])\n",
        "solar_dataset['Inverter'] = label_encoder.fit_transform(solar_dataset['Inverter'])\n",
        "solar_dataset['Tracker_type'] = label_encoder.fit_transform(solar_dataset['Tracker_type'])\n",
        "solar_dataset['Orientation'] = label_encoder.fit_transform(solar_dataset['Orientation'])\n",
        "solar_dataset"
      ],
      "metadata": {
        "colab": {
          "base_uri": "https://localhost:8080/",
          "height": 1000
        },
        "id": "FPdiO_sD0x8L",
        "outputId": "f087f02f-8116-4131-c913-9875d510ce36"
      },
      "execution_count": 59,
      "outputs": [
        {
          "output_type": "stream",
          "name": "stderr",
          "text": [
            "<ipython-input-59-95f404b5c363>:3: SettingWithCopyWarning: \n",
            "A value is trying to be set on a copy of a slice from a DataFrame.\n",
            "Try using .loc[row_indexer,col_indexer] = value instead\n",
            "\n",
            "See the caveats in the documentation: https://pandas.pydata.org/pandas-docs/stable/user_guide/indexing.html#returning-a-view-versus-a-copy\n",
            "  solar_dataset['InsCap(MW)'] = 1.1 # TODO change to proper conversion\n",
            "<ipython-input-59-95f404b5c363>:4: SettingWithCopyWarning: \n",
            "A value is trying to be set on a copy of a slice from a DataFrame.\n",
            "Try using .loc[row_indexer,col_indexer] = value instead\n",
            "\n",
            "See the caveats in the documentation: https://pandas.pydata.org/pandas-docs/stable/user_guide/indexing.html#returning-a-view-versus-a-copy\n",
            "  solar_dataset['Model'] = label_encoder.fit_transform(solar_dataset['Model'])\n",
            "<ipython-input-59-95f404b5c363>:5: SettingWithCopyWarning: \n",
            "A value is trying to be set on a copy of a slice from a DataFrame.\n",
            "Try using .loc[row_indexer,col_indexer] = value instead\n",
            "\n",
            "See the caveats in the documentation: https://pandas.pydata.org/pandas-docs/stable/user_guide/indexing.html#returning-a-view-versus-a-copy\n",
            "  solar_dataset['Inverter'] = label_encoder.fit_transform(solar_dataset['Inverter'])\n",
            "<ipython-input-59-95f404b5c363>:6: SettingWithCopyWarning: \n",
            "A value is trying to be set on a copy of a slice from a DataFrame.\n",
            "Try using .loc[row_indexer,col_indexer] = value instead\n",
            "\n",
            "See the caveats in the documentation: https://pandas.pydata.org/pandas-docs/stable/user_guide/indexing.html#returning-a-view-versus-a-copy\n",
            "  solar_dataset['Tracker_type'] = label_encoder.fit_transform(solar_dataset['Tracker_type'])\n",
            "<ipython-input-59-95f404b5c363>:7: SettingWithCopyWarning: \n",
            "A value is trying to be set on a copy of a slice from a DataFrame.\n",
            "Try using .loc[row_indexer,col_indexer] = value instead\n",
            "\n",
            "See the caveats in the documentation: https://pandas.pydata.org/pandas-docs/stable/user_guide/indexing.html#returning-a-view-versus-a-copy\n",
            "  solar_dataset['Orientation'] = label_encoder.fit_transform(solar_dataset['Orientation'])\n"
          ]
        },
        {
          "output_type": "execute_result",
          "data": {
            "text/plain": [
              "                 time  InsCap(MW)  Total installed capacity KW  Nr_modules  \\\n",
              "0    2023-07-01T00:00         1.1                         1100        1834   \n",
              "1    2023-07-01T01:00         1.1                         1100        1834   \n",
              "2    2023-07-01T02:00         1.1                         1100        1834   \n",
              "3    2023-07-01T03:00         1.1                         1100        1834   \n",
              "4    2023-07-01T04:00         1.1                         1100        1834   \n",
              "..                ...         ...                          ...         ...   \n",
              "739  2023-07-31T19:00         1.1                         1100        1834   \n",
              "740  2023-07-31T20:00         1.1                         1100        1834   \n",
              "741  2023-07-31T21:00         1.1                         1100        1834   \n",
              "742  2023-07-31T22:00         1.1                         1100        1834   \n",
              "743  2023-07-31T23:00         1.1                         1100        1834   \n",
              "\n",
              "     Module capacity W  Model  Nr_inverters  Inverter capacity KW  Inverter  \\\n",
              "0                  600      0             9                   110         0   \n",
              "1                  600      0             9                   110         0   \n",
              "2                  600      0             9                   110         0   \n",
              "3                  600      0             9                   110         0   \n",
              "4                  600      0             9                   110         0   \n",
              "..                 ...    ...           ...                   ...       ...   \n",
              "739                600      0             9                   110         0   \n",
              "740                600      0             9                   110         0   \n",
              "741                600      0             9                   110         0   \n",
              "742                600      0             9                   110         0   \n",
              "743                600      0             9                   110         0   \n",
              "\n",
              "     Tracker_type  Orientation  precipitation_probability  cloudcover  \\\n",
              "0               0            0                          0           0   \n",
              "1               0            0                          0           6   \n",
              "2               0            0                          0           0   \n",
              "3               0            0                          0          10   \n",
              "4               0            0                          0          32   \n",
              "..            ...          ...                        ...         ...   \n",
              "739             0            0                         60         100   \n",
              "740             0            0                         63         100   \n",
              "741             0            0                         65         100   \n",
              "742             0            0                         65         100   \n",
              "743             0            0                         65         100   \n",
              "\n",
              "     uv_index  is_day  Real Prod(mwh)  \n",
              "0         0.0       0           0.000  \n",
              "1         0.0       0           0.000  \n",
              "2         0.0       0           0.000  \n",
              "3         0.0       0           0.000  \n",
              "4         0.0       0           0.000  \n",
              "..        ...     ...             ...  \n",
              "739       0.6       1           0.022  \n",
              "740       0.2       1           0.000  \n",
              "741       0.0       0           0.000  \n",
              "742       0.0       0           0.000  \n",
              "743       0.0       0           0.000  \n",
              "\n",
              "[744 rows x 16 columns]"
            ],
            "text/html": [
              "\n",
              "  <div id=\"df-cab030e7-cae5-4238-af00-6ef00783e1d2\" class=\"colab-df-container\">\n",
              "    <div>\n",
              "<style scoped>\n",
              "    .dataframe tbody tr th:only-of-type {\n",
              "        vertical-align: middle;\n",
              "    }\n",
              "\n",
              "    .dataframe tbody tr th {\n",
              "        vertical-align: top;\n",
              "    }\n",
              "\n",
              "    .dataframe thead th {\n",
              "        text-align: right;\n",
              "    }\n",
              "</style>\n",
              "<table border=\"1\" class=\"dataframe\">\n",
              "  <thead>\n",
              "    <tr style=\"text-align: right;\">\n",
              "      <th></th>\n",
              "      <th>time</th>\n",
              "      <th>InsCap(MW)</th>\n",
              "      <th>Total installed capacity KW</th>\n",
              "      <th>Nr_modules</th>\n",
              "      <th>Module capacity W</th>\n",
              "      <th>Model</th>\n",
              "      <th>Nr_inverters</th>\n",
              "      <th>Inverter capacity KW</th>\n",
              "      <th>Inverter</th>\n",
              "      <th>Tracker_type</th>\n",
              "      <th>Orientation</th>\n",
              "      <th>precipitation_probability</th>\n",
              "      <th>cloudcover</th>\n",
              "      <th>uv_index</th>\n",
              "      <th>is_day</th>\n",
              "      <th>Real Prod(mwh)</th>\n",
              "    </tr>\n",
              "  </thead>\n",
              "  <tbody>\n",
              "    <tr>\n",
              "      <th>0</th>\n",
              "      <td>2023-07-01T00:00</td>\n",
              "      <td>1.1</td>\n",
              "      <td>1100</td>\n",
              "      <td>1834</td>\n",
              "      <td>600</td>\n",
              "      <td>0</td>\n",
              "      <td>9</td>\n",
              "      <td>110</td>\n",
              "      <td>0</td>\n",
              "      <td>0</td>\n",
              "      <td>0</td>\n",
              "      <td>0</td>\n",
              "      <td>0</td>\n",
              "      <td>0.0</td>\n",
              "      <td>0</td>\n",
              "      <td>0.000</td>\n",
              "    </tr>\n",
              "    <tr>\n",
              "      <th>1</th>\n",
              "      <td>2023-07-01T01:00</td>\n",
              "      <td>1.1</td>\n",
              "      <td>1100</td>\n",
              "      <td>1834</td>\n",
              "      <td>600</td>\n",
              "      <td>0</td>\n",
              "      <td>9</td>\n",
              "      <td>110</td>\n",
              "      <td>0</td>\n",
              "      <td>0</td>\n",
              "      <td>0</td>\n",
              "      <td>0</td>\n",
              "      <td>6</td>\n",
              "      <td>0.0</td>\n",
              "      <td>0</td>\n",
              "      <td>0.000</td>\n",
              "    </tr>\n",
              "    <tr>\n",
              "      <th>2</th>\n",
              "      <td>2023-07-01T02:00</td>\n",
              "      <td>1.1</td>\n",
              "      <td>1100</td>\n",
              "      <td>1834</td>\n",
              "      <td>600</td>\n",
              "      <td>0</td>\n",
              "      <td>9</td>\n",
              "      <td>110</td>\n",
              "      <td>0</td>\n",
              "      <td>0</td>\n",
              "      <td>0</td>\n",
              "      <td>0</td>\n",
              "      <td>0</td>\n",
              "      <td>0.0</td>\n",
              "      <td>0</td>\n",
              "      <td>0.000</td>\n",
              "    </tr>\n",
              "    <tr>\n",
              "      <th>3</th>\n",
              "      <td>2023-07-01T03:00</td>\n",
              "      <td>1.1</td>\n",
              "      <td>1100</td>\n",
              "      <td>1834</td>\n",
              "      <td>600</td>\n",
              "      <td>0</td>\n",
              "      <td>9</td>\n",
              "      <td>110</td>\n",
              "      <td>0</td>\n",
              "      <td>0</td>\n",
              "      <td>0</td>\n",
              "      <td>0</td>\n",
              "      <td>10</td>\n",
              "      <td>0.0</td>\n",
              "      <td>0</td>\n",
              "      <td>0.000</td>\n",
              "    </tr>\n",
              "    <tr>\n",
              "      <th>4</th>\n",
              "      <td>2023-07-01T04:00</td>\n",
              "      <td>1.1</td>\n",
              "      <td>1100</td>\n",
              "      <td>1834</td>\n",
              "      <td>600</td>\n",
              "      <td>0</td>\n",
              "      <td>9</td>\n",
              "      <td>110</td>\n",
              "      <td>0</td>\n",
              "      <td>0</td>\n",
              "      <td>0</td>\n",
              "      <td>0</td>\n",
              "      <td>32</td>\n",
              "      <td>0.0</td>\n",
              "      <td>0</td>\n",
              "      <td>0.000</td>\n",
              "    </tr>\n",
              "    <tr>\n",
              "      <th>...</th>\n",
              "      <td>...</td>\n",
              "      <td>...</td>\n",
              "      <td>...</td>\n",
              "      <td>...</td>\n",
              "      <td>...</td>\n",
              "      <td>...</td>\n",
              "      <td>...</td>\n",
              "      <td>...</td>\n",
              "      <td>...</td>\n",
              "      <td>...</td>\n",
              "      <td>...</td>\n",
              "      <td>...</td>\n",
              "      <td>...</td>\n",
              "      <td>...</td>\n",
              "      <td>...</td>\n",
              "      <td>...</td>\n",
              "    </tr>\n",
              "    <tr>\n",
              "      <th>739</th>\n",
              "      <td>2023-07-31T19:00</td>\n",
              "      <td>1.1</td>\n",
              "      <td>1100</td>\n",
              "      <td>1834</td>\n",
              "      <td>600</td>\n",
              "      <td>0</td>\n",
              "      <td>9</td>\n",
              "      <td>110</td>\n",
              "      <td>0</td>\n",
              "      <td>0</td>\n",
              "      <td>0</td>\n",
              "      <td>60</td>\n",
              "      <td>100</td>\n",
              "      <td>0.6</td>\n",
              "      <td>1</td>\n",
              "      <td>0.022</td>\n",
              "    </tr>\n",
              "    <tr>\n",
              "      <th>740</th>\n",
              "      <td>2023-07-31T20:00</td>\n",
              "      <td>1.1</td>\n",
              "      <td>1100</td>\n",
              "      <td>1834</td>\n",
              "      <td>600</td>\n",
              "      <td>0</td>\n",
              "      <td>9</td>\n",
              "      <td>110</td>\n",
              "      <td>0</td>\n",
              "      <td>0</td>\n",
              "      <td>0</td>\n",
              "      <td>63</td>\n",
              "      <td>100</td>\n",
              "      <td>0.2</td>\n",
              "      <td>1</td>\n",
              "      <td>0.000</td>\n",
              "    </tr>\n",
              "    <tr>\n",
              "      <th>741</th>\n",
              "      <td>2023-07-31T21:00</td>\n",
              "      <td>1.1</td>\n",
              "      <td>1100</td>\n",
              "      <td>1834</td>\n",
              "      <td>600</td>\n",
              "      <td>0</td>\n",
              "      <td>9</td>\n",
              "      <td>110</td>\n",
              "      <td>0</td>\n",
              "      <td>0</td>\n",
              "      <td>0</td>\n",
              "      <td>65</td>\n",
              "      <td>100</td>\n",
              "      <td>0.0</td>\n",
              "      <td>0</td>\n",
              "      <td>0.000</td>\n",
              "    </tr>\n",
              "    <tr>\n",
              "      <th>742</th>\n",
              "      <td>2023-07-31T22:00</td>\n",
              "      <td>1.1</td>\n",
              "      <td>1100</td>\n",
              "      <td>1834</td>\n",
              "      <td>600</td>\n",
              "      <td>0</td>\n",
              "      <td>9</td>\n",
              "      <td>110</td>\n",
              "      <td>0</td>\n",
              "      <td>0</td>\n",
              "      <td>0</td>\n",
              "      <td>65</td>\n",
              "      <td>100</td>\n",
              "      <td>0.0</td>\n",
              "      <td>0</td>\n",
              "      <td>0.000</td>\n",
              "    </tr>\n",
              "    <tr>\n",
              "      <th>743</th>\n",
              "      <td>2023-07-31T23:00</td>\n",
              "      <td>1.1</td>\n",
              "      <td>1100</td>\n",
              "      <td>1834</td>\n",
              "      <td>600</td>\n",
              "      <td>0</td>\n",
              "      <td>9</td>\n",
              "      <td>110</td>\n",
              "      <td>0</td>\n",
              "      <td>0</td>\n",
              "      <td>0</td>\n",
              "      <td>65</td>\n",
              "      <td>100</td>\n",
              "      <td>0.0</td>\n",
              "      <td>0</td>\n",
              "      <td>0.000</td>\n",
              "    </tr>\n",
              "  </tbody>\n",
              "</table>\n",
              "<p>744 rows × 16 columns</p>\n",
              "</div>\n",
              "    <div class=\"colab-df-buttons\">\n",
              "\n",
              "  <div class=\"colab-df-container\">\n",
              "    <button class=\"colab-df-convert\" onclick=\"convertToInteractive('df-cab030e7-cae5-4238-af00-6ef00783e1d2')\"\n",
              "            title=\"Convert this dataframe to an interactive table.\"\n",
              "            style=\"display:none;\">\n",
              "\n",
              "  <svg xmlns=\"http://www.w3.org/2000/svg\" height=\"24px\" viewBox=\"0 -960 960 960\">\n",
              "    <path d=\"M120-120v-720h720v720H120Zm60-500h600v-160H180v160Zm220 220h160v-160H400v160Zm0 220h160v-160H400v160ZM180-400h160v-160H180v160Zm440 0h160v-160H620v160ZM180-180h160v-160H180v160Zm440 0h160v-160H620v160Z\"/>\n",
              "  </svg>\n",
              "    </button>\n",
              "\n",
              "  <style>\n",
              "    .colab-df-container {\n",
              "      display:flex;\n",
              "      gap: 12px;\n",
              "    }\n",
              "\n",
              "    .colab-df-convert {\n",
              "      background-color: #E8F0FE;\n",
              "      border: none;\n",
              "      border-radius: 50%;\n",
              "      cursor: pointer;\n",
              "      display: none;\n",
              "      fill: #1967D2;\n",
              "      height: 32px;\n",
              "      padding: 0 0 0 0;\n",
              "      width: 32px;\n",
              "    }\n",
              "\n",
              "    .colab-df-convert:hover {\n",
              "      background-color: #E2EBFA;\n",
              "      box-shadow: 0px 1px 2px rgba(60, 64, 67, 0.3), 0px 1px 3px 1px rgba(60, 64, 67, 0.15);\n",
              "      fill: #174EA6;\n",
              "    }\n",
              "\n",
              "    .colab-df-buttons div {\n",
              "      margin-bottom: 4px;\n",
              "    }\n",
              "\n",
              "    [theme=dark] .colab-df-convert {\n",
              "      background-color: #3B4455;\n",
              "      fill: #D2E3FC;\n",
              "    }\n",
              "\n",
              "    [theme=dark] .colab-df-convert:hover {\n",
              "      background-color: #434B5C;\n",
              "      box-shadow: 0px 1px 3px 1px rgba(0, 0, 0, 0.15);\n",
              "      filter: drop-shadow(0px 1px 2px rgba(0, 0, 0, 0.3));\n",
              "      fill: #FFFFFF;\n",
              "    }\n",
              "  </style>\n",
              "\n",
              "    <script>\n",
              "      const buttonEl =\n",
              "        document.querySelector('#df-cab030e7-cae5-4238-af00-6ef00783e1d2 button.colab-df-convert');\n",
              "      buttonEl.style.display =\n",
              "        google.colab.kernel.accessAllowed ? 'block' : 'none';\n",
              "\n",
              "      async function convertToInteractive(key) {\n",
              "        const element = document.querySelector('#df-cab030e7-cae5-4238-af00-6ef00783e1d2');\n",
              "        const dataTable =\n",
              "          await google.colab.kernel.invokeFunction('convertToInteractive',\n",
              "                                                    [key], {});\n",
              "        if (!dataTable) return;\n",
              "\n",
              "        const docLinkHtml = 'Like what you see? Visit the ' +\n",
              "          '<a target=\"_blank\" href=https://colab.research.google.com/notebooks/data_table.ipynb>data table notebook</a>'\n",
              "          + ' to learn more about interactive tables.';\n",
              "        element.innerHTML = '';\n",
              "        dataTable['output_type'] = 'display_data';\n",
              "        await google.colab.output.renderOutput(dataTable, element);\n",
              "        const docLink = document.createElement('div');\n",
              "        docLink.innerHTML = docLinkHtml;\n",
              "        element.appendChild(docLink);\n",
              "      }\n",
              "    </script>\n",
              "  </div>\n",
              "\n",
              "\n",
              "<div id=\"df-7d64fb15-860b-4836-be27-f6fedfa272c1\">\n",
              "  <button class=\"colab-df-quickchart\" onclick=\"quickchart('df-7d64fb15-860b-4836-be27-f6fedfa272c1')\"\n",
              "            title=\"Suggest charts.\"\n",
              "            style=\"display:none;\">\n",
              "\n",
              "<svg xmlns=\"http://www.w3.org/2000/svg\" height=\"24px\"viewBox=\"0 0 24 24\"\n",
              "     width=\"24px\">\n",
              "    <g>\n",
              "        <path d=\"M19 3H5c-1.1 0-2 .9-2 2v14c0 1.1.9 2 2 2h14c1.1 0 2-.9 2-2V5c0-1.1-.9-2-2-2zM9 17H7v-7h2v7zm4 0h-2V7h2v10zm4 0h-2v-4h2v4z\"/>\n",
              "    </g>\n",
              "</svg>\n",
              "  </button>\n",
              "\n",
              "<style>\n",
              "  .colab-df-quickchart {\n",
              "      --bg-color: #E8F0FE;\n",
              "      --fill-color: #1967D2;\n",
              "      --hover-bg-color: #E2EBFA;\n",
              "      --hover-fill-color: #174EA6;\n",
              "      --disabled-fill-color: #AAA;\n",
              "      --disabled-bg-color: #DDD;\n",
              "  }\n",
              "\n",
              "  [theme=dark] .colab-df-quickchart {\n",
              "      --bg-color: #3B4455;\n",
              "      --fill-color: #D2E3FC;\n",
              "      --hover-bg-color: #434B5C;\n",
              "      --hover-fill-color: #FFFFFF;\n",
              "      --disabled-bg-color: #3B4455;\n",
              "      --disabled-fill-color: #666;\n",
              "  }\n",
              "\n",
              "  .colab-df-quickchart {\n",
              "    background-color: var(--bg-color);\n",
              "    border: none;\n",
              "    border-radius: 50%;\n",
              "    cursor: pointer;\n",
              "    display: none;\n",
              "    fill: var(--fill-color);\n",
              "    height: 32px;\n",
              "    padding: 0;\n",
              "    width: 32px;\n",
              "  }\n",
              "\n",
              "  .colab-df-quickchart:hover {\n",
              "    background-color: var(--hover-bg-color);\n",
              "    box-shadow: 0 1px 2px rgba(60, 64, 67, 0.3), 0 1px 3px 1px rgba(60, 64, 67, 0.15);\n",
              "    fill: var(--button-hover-fill-color);\n",
              "  }\n",
              "\n",
              "  .colab-df-quickchart-complete:disabled,\n",
              "  .colab-df-quickchart-complete:disabled:hover {\n",
              "    background-color: var(--disabled-bg-color);\n",
              "    fill: var(--disabled-fill-color);\n",
              "    box-shadow: none;\n",
              "  }\n",
              "\n",
              "  .colab-df-spinner {\n",
              "    border: 2px solid var(--fill-color);\n",
              "    border-color: transparent;\n",
              "    border-bottom-color: var(--fill-color);\n",
              "    animation:\n",
              "      spin 1s steps(1) infinite;\n",
              "  }\n",
              "\n",
              "  @keyframes spin {\n",
              "    0% {\n",
              "      border-color: transparent;\n",
              "      border-bottom-color: var(--fill-color);\n",
              "      border-left-color: var(--fill-color);\n",
              "    }\n",
              "    20% {\n",
              "      border-color: transparent;\n",
              "      border-left-color: var(--fill-color);\n",
              "      border-top-color: var(--fill-color);\n",
              "    }\n",
              "    30% {\n",
              "      border-color: transparent;\n",
              "      border-left-color: var(--fill-color);\n",
              "      border-top-color: var(--fill-color);\n",
              "      border-right-color: var(--fill-color);\n",
              "    }\n",
              "    40% {\n",
              "      border-color: transparent;\n",
              "      border-right-color: var(--fill-color);\n",
              "      border-top-color: var(--fill-color);\n",
              "    }\n",
              "    60% {\n",
              "      border-color: transparent;\n",
              "      border-right-color: var(--fill-color);\n",
              "    }\n",
              "    80% {\n",
              "      border-color: transparent;\n",
              "      border-right-color: var(--fill-color);\n",
              "      border-bottom-color: var(--fill-color);\n",
              "    }\n",
              "    90% {\n",
              "      border-color: transparent;\n",
              "      border-bottom-color: var(--fill-color);\n",
              "    }\n",
              "  }\n",
              "</style>\n",
              "\n",
              "  <script>\n",
              "    async function quickchart(key) {\n",
              "      const quickchartButtonEl =\n",
              "        document.querySelector('#' + key + ' button');\n",
              "      quickchartButtonEl.disabled = true;  // To prevent multiple clicks.\n",
              "      quickchartButtonEl.classList.add('colab-df-spinner');\n",
              "      try {\n",
              "        const charts = await google.colab.kernel.invokeFunction(\n",
              "            'suggestCharts', [key], {});\n",
              "      } catch (error) {\n",
              "        console.error('Error during call to suggestCharts:', error);\n",
              "      }\n",
              "      quickchartButtonEl.classList.remove('colab-df-spinner');\n",
              "      quickchartButtonEl.classList.add('colab-df-quickchart-complete');\n",
              "    }\n",
              "    (() => {\n",
              "      let quickchartButtonEl =\n",
              "        document.querySelector('#df-7d64fb15-860b-4836-be27-f6fedfa272c1 button');\n",
              "      quickchartButtonEl.style.display =\n",
              "        google.colab.kernel.accessAllowed ? 'block' : 'none';\n",
              "    })();\n",
              "  </script>\n",
              "</div>\n",
              "    </div>\n",
              "  </div>\n"
            ]
          },
          "metadata": {},
          "execution_count": 59
        }
      ]
    },
    {
      "cell_type": "code",
      "source": [
        "import matplotlib.pyplot as mp\n",
        "import pandas as pd\n",
        "import seaborn as sb\n",
        "\n",
        "corr = solar_dataset[[\n",
        "    'precipitation_probability',\n",
        "    'cloudcover',\n",
        "    'uv_index',\n",
        "    'is_day']].corr()\n",
        "\n",
        "plt.figure(figsize=(14,10))\n",
        "dataplot = sb.heatmap(corr, cmap=\"YlGnBu\", annot=True)\n",
        "\n",
        "mp.show()"
      ],
      "metadata": {
        "colab": {
          "base_uri": "https://localhost:8080/",
          "height": 730
        },
        "id": "36vDckxy2qYR",
        "outputId": "24e42904-95a9-46ad-ebe3-7b175ca4884c"
      },
      "execution_count": 60,
      "outputs": [
        {
          "output_type": "display_data",
          "data": {
            "text/plain": [
              "<Figure size 1400x1000 with 2 Axes>"
            ],
            "image/png": "[encoded data removed]"
          },
          "metadata": {}
        }
      ]
    },
    {
      "cell_type": "code",
      "source": [
        "Y = solar_dataset['Real Prod(mwh)']\n",
        "X = solar_dataset.drop([ 'Real Prod(mwh)', 'time'], axis=1)"
      ],
      "metadata": {
        "id": "9NK_ybkR46_U"
      },
      "execution_count": 61,
      "outputs": []
    },
    {
      "cell_type": "markdown",
      "source": [
        "# Training stage"
      ],
      "metadata": {
        "id": "AAGKmB9qxJsu"
      }
    },
    {
      "cell_type": "markdown",
      "source": [
        "## Import models and utils"
      ],
      "metadata": {
        "id": "qogGWN8Iohjy"
      }
    },
    {
      "cell_type": "code",
      "source": [
        "from sklearn.linear_model import (\n",
        "    LinearRegression,\n",
        "    Lasso,\n",
        "    ElasticNet,\n",
        ")\n",
        "from sklearn.tree import DecisionTreeRegressor\n",
        "from sklearn.neighbors import KNeighborsRegressor\n",
        "from sklearn.svm import SVR\n",
        "from sklearn.ensemble import (\n",
        "    RandomForestRegressor,\n",
        "    GradientBoostingRegressor,\n",
        "    ExtraTreesRegressor,\n",
        "    AdaBoostRegressor,\n",
        ")\n",
        "\n",
        "from xgboost import (\n",
        "    XGBRegressor,\n",
        ")\n",
        "\n",
        "from sklearn.neural_network import (\n",
        "    MLPRegressor,\n",
        ")\n",
        "\n",
        "# Function and nodules for data analysis and nodel evaluation\n",
        "\n",
        "from sklearn.model_selection import (\n",
        "    train_test_split,\n",
        "    KFold,\n",
        "    cross_val_score,\n",
        "    GridSearchCV,\n",
        ")\n",
        "\n",
        "from sklearn.metrics import (\n",
        "    mean_squared_error,\n",
        "    mean_absolute_error,\n",
        "    median_absolute_error\n",
        ")\n",
        "\n",
        "from sklearn.feature_selection import (\n",
        "    chi2,\n",
        "    f_regression,\n",
        "    SelectKBest,\n",
        ")\n",
        "\n",
        "# Function and modules for deep learning models\n",
        "\n",
        "from keras.models import (\n",
        "    Sequential,\n",
        ")\n",
        "from keras.layers import (\n",
        "    Dense,\n",
        "    LSTM,\n",
        ")\n",
        "import matplotlib.pyplot as plt"
      ],
      "metadata": {
        "id": "jsSmRk-tVZs_"
      },
      "execution_count": 62,
      "outputs": []
    },
    {
      "cell_type": "markdown",
      "source": [
        "## Dataset preparation"
      ],
      "metadata": {
        "id": "7GZaWBfWw9By"
      }
    },
    {
      "cell_type": "markdown",
      "source": [
        "### Setting up dataset preprocess parameters"
      ],
      "metadata": {
        "id": "ChEvMo-hZcND"
      }
    },
    {
      "cell_type": "code",
      "source": [
        "validation_size = 0.2\n",
        "\n",
        "num_folds = 10\n",
        "scoring = 'neg_median_absolute_error'"
      ],
      "metadata": {
        "id": "ag14cvuKVi_j"
      },
      "execution_count": 63,
      "outputs": []
    },
    {
      "cell_type": "markdown",
      "source": [
        "### Train/test splitting"
      ],
      "metadata": {
        "id": "j9nkslLsZtNE"
      }
    },
    {
      "cell_type": "code",
      "source": [
        "X_train, Y_train = X, Y"
      ],
      "metadata": {
        "id": "-u3ZvXG8nLCX"
      },
      "execution_count": 64,
      "outputs": []
    },
    {
      "cell_type": "code",
      "source": [
        "X_train, X_test, Y_train, Y_test = train_test_split(X, Y, test_size=validation_size)"
      ],
      "metadata": {
        "id": "yW9LNIkhcoOl"
      },
      "execution_count": 65,
      "outputs": []
    },
    {
      "cell_type": "markdown",
      "source": [
        "## Setting up POC models"
      ],
      "metadata": {
        "id": "jxVUw_NBaM-n"
      }
    },
    {
      "cell_type": "code",
      "source": [
        "models = []\n",
        "models.append(('LR', LinearRegression()))\n",
        "models.append(('LASSO', Lasso()))\n",
        "models.append(('EN', ElasticNet()))\n",
        "models.append(('KNN', KNeighborsRegressor()))\n",
        "models.append(('CART', DecisionTreeRegressor()))\n",
        "models.append(('SVR', SVR()))\n",
        "models.append(('MLP', MLPRegressor()))\n",
        "\n",
        "#BoostingMethods\n",
        "models.append(('ABR', AdaBoostRegressor()))\n",
        "models.append(('GBR', GradientBoostingRegressor()))\n",
        "#Bagging methods\n",
        "models.append(('RFR', RandomForestRegressor()))\n",
        "models.append(('ETR', ExtraTreesRegressor()))\n",
        "models.append(('XGB', XGBRegressor()))"
      ],
      "metadata": {
        "id": "XO1bEIZIVdlb"
      },
      "execution_count": 66,
      "outputs": []
    },
    {
      "cell_type": "markdown",
      "source": [
        "## Models training, scoring and comparison"
      ],
      "metadata": {
        "id": "XSEEIOe0aYiZ"
      }
    },
    {
      "cell_type": "code",
      "source": [
        "names = []\n",
        "kfold_results = []\n",
        "test_results = []\n",
        "train_results = []\n",
        "\n",
        "for name, model in models:\n",
        "    names.append(name)\n",
        "    kfold = KFold(n_splits=num_folds)\n",
        "    cv_results = -1 * cross_val_score(model, X_train, Y_train, cv=kfold, scoring=scoring)\n",
        "    kfold_results.append(cv_results)\n",
        "    res = model.fit(X_train, Y_train)\n",
        "\n",
        "    # Train results\n",
        "\n",
        "    train_result = mean_squared_error(res.predict(X_train), Y_train)\n",
        "    train_results.append(train_result)\n",
        "\n",
        "    # Test results\n",
        "\n",
        "    test_result = mean_squared_error(res.predict(X_test), Y_test)\n",
        "    test_results.append(test_result)\n",
        "\n",
        "# Let's compare the algorithms by looking at the cross validation results:\n",
        "\n",
        "# Cross validation results\n",
        "\n",
        "fig = plt.figure()\n",
        "fig.suptitle('Algorithm Comparison: Kfold results')\n",
        "ax = fig.add_subplot(111)\n",
        "plt.boxplot (kfold_results)\n",
        "ax.set_xticklabels (names)\n",
        "fig.set_size_inches (15,8)\n",
        "plt.show()"
      ],
      "metadata": {
        "colab": {
          "base_uri": "https://localhost:8080/",
          "height": 762
        },
        "id": "Xpnoh9A3WMKU",
        "outputId": "c206bb16-a09c-49e1-f5be-4973411afaa9"
      },
      "execution_count": 67,
      "outputs": [
        {
          "output_type": "stream",
          "name": "stderr",
          "text": [
            "/usr/local/lib/python3.10/dist-packages/sklearn/neural_network/_multilayer_perceptron.py:686: ConvergenceWarning: Stochastic Optimizer: Maximum iterations (200) reached and the optimization hasn't converged yet.\n",
            "  warnings.warn(\n",
            "/usr/local/lib/python3.10/dist-packages/sklearn/neural_network/_multilayer_perceptron.py:686: ConvergenceWarning: Stochastic Optimizer: Maximum iterations (200) reached and the optimization hasn't converged yet.\n",
            "  warnings.warn(\n",
            "/usr/local/lib/python3.10/dist-packages/sklearn/neural_network/_multilayer_perceptron.py:686: ConvergenceWarning: Stochastic Optimizer: Maximum iterations (200) reached and the optimization hasn't converged yet.\n",
            "  warnings.warn(\n",
            "/usr/local/lib/python3.10/dist-packages/sklearn/neural_network/_multilayer_perceptron.py:686: ConvergenceWarning: Stochastic Optimizer: Maximum iterations (200) reached and the optimization hasn't converged yet.\n",
            "  warnings.warn(\n",
            "/usr/local/lib/python3.10/dist-packages/sklearn/neural_network/_multilayer_perceptron.py:686: ConvergenceWarning: Stochastic Optimizer: Maximum iterations (200) reached and the optimization hasn't converged yet.\n",
            "  warnings.warn(\n"
          ]
        },
        {
          "output_type": "display_data",
          "data": {
            "text/plain": [
              "<Figure size 1500x800 with 1 Axes>"
            ],
            "image/png": "[encoded data removed]"
          },
          "metadata": {}
        }
      ]
    },
    {
      "cell_type": "markdown",
      "source": [
        "### Models results against median of test sample results"
      ],
      "metadata": {
        "id": "6yyIfvGcvfgt"
      }
    },
    {
      "cell_type": "code",
      "source": [
        "test_results < Y_test.median()"
      ],
      "metadata": {
        "colab": {
          "base_uri": "https://localhost:8080/"
        },
        "id": "Tv1fL7nms_d_",
        "outputId": "6980ec6a-141b-43bb-ed8f-67bff9a18f87"
      },
      "execution_count": 69,
      "outputs": [
        {
          "output_type": "execute_result",
          "data": {
            "text/plain": [
              "array([ True, False, False,  True,  True, False,  True,  True,  True,\n",
              "        True,  True,  True])"
            ]
          },
          "metadata": {},
          "execution_count": 69
        }
      ]
    },
    {
      "cell_type": "code",
      "source": [
        "with open('/content/drive/MyDrive/models/ETR.pickle','rb') as f:\n",
        "    res = pickle.load(f)\n",
        "test_result = mean_absolute_error(res.predict(X_test), Y_test)\n",
        "print(\"\", test_result)\n",
        "\n",
        "with open('/content/drive/MyDrive/models/MLP.pickle','rb') as f:\n",
        "    res = pickle.load(f)\n",
        "test_result = mean_absolute_error(res.predict(X_test), Y_test)\n",
        "test_result"
      ],
      "metadata": {
        "colab": {
          "base_uri": "https://localhost:8080/"
        },
        "id": "kUlFs4sEExAD",
        "outputId": "68fb4be5-6c38-4130-dd83-197c901803e1"
      },
      "execution_count": 36,
      "outputs": [
        {
          "output_type": "execute_result",
          "data": {
            "text/plain": [
              "0.2527943019068534"
            ]
          },
          "metadata": {},
          "execution_count": 36
        }
      ]
    },
    {
      "cell_type": "code",
      "source": [
        "X.columns"
      ],
      "metadata": {
        "colab": {
          "base_uri": "https://localhost:8080/"
        },
        "id": "cmgGnO_nRVqq",
        "outputId": "facd43ef-b4a2-450b-efd4-12b727cf876c"
      },
      "execution_count": 71,
      "outputs": [
        {
          "output_type": "execute_result",
          "data": {
            "text/plain": [
              "Index(['InsCap(MW)', 'Total installed capacity KW', 'Nr_modules',\n",
              "       'Module capacity W', 'Model', 'Nr_inverters', 'Inverter capacity KW',\n",
              "       'Inverter', 'Tracker_type', 'Orientation', 'precipitation_probability',\n",
              "       'cloudcover', 'uv_index', 'is_day'],\n",
              "      dtype='object')"
            ]
          },
          "metadata": {},
          "execution_count": 71
        }
      ]
    },
    {
      "cell_type": "markdown",
      "source": [
        "## Save Models"
      ],
      "metadata": {
        "id": "7-4m29lovm0W"
      }
    },
    {
      "cell_type": "code",
      "source": [
        "import pickle\n",
        "import os\n",
        "\n",
        "if not os.path.exists('/content/drive/MyDrive/models/'):\n",
        "    os.mkdir('/content/drive/MyDrive/models/')\n",
        "for name, model in models:\n",
        "    with open(f'/content/drive/MyDrive/models/{MODEL_TYPE}_{name}.pickle', 'wb') as f:\n",
        "        pickle.dump(model, f)"
      ],
      "metadata": {
        "id": "Cb6o1cr6Wwqm"
      },
      "execution_count": 68,
      "outputs": []
    },
    {
      "cell_type": "markdown",
      "source": [
        "# API design"
      ],
      "metadata": {
        "id": "MnVVuG06SZrt"
      }
    },
    {
      "cell_type": "markdown",
      "source": [
        "## Wind model"
      ],
      "metadata": {
        "id": "XlUFj8H_TVBL"
      }
    },
    {
      "cell_type": "code",
      "source": [
        "X.columns"
      ],
      "metadata": {
        "colab": {
          "base_uri": "https://localhost:8080/"
        },
        "id": "WxeUSS50VAqm",
        "outputId": "0b2ba825-34d6-4e8b-e03a-87491e4118c0"
      },
      "execution_count": 80,
      "outputs": [
        {
          "output_type": "execute_result",
          "data": {
            "text/plain": [
              "Index(['wind_speed (m/s)', 'wind_dir', 'temp', 'pressure', 'Turbine Model',\n",
              "       'Tower Height', 'Rotor Diameter', 'Production Year', 'START m/s',\n",
              "       'STOP  m/s', 'Service', 'MaxLimit'],\n",
              "      dtype='object')"
            ]
          },
          "metadata": {},
          "execution_count": 80
        }
      ]
    },
    {
      "cell_type": "code",
      "source": [
        "import requests\n",
        "\n",
        "c1 = [46.953021, 28.755979]\n",
        "\n",
        "c2 = [48.212883, 27.696193]\n",
        "def get_weather_forecast(lat: float, long: float):\n",
        "    resp = requests.get(f'https://api.open-meteo.com/v1/forecast?latitude={lat}&longitude={long}&hourly=temperature_2m,surface_pressure,windspeed_10m,winddirection_10m&windspeed_unit=ms&timezone=auto')\n",
        "    df = pd.DataFrame.from_dict(resp.json()['hourly'])\n",
        "    df.rename(columns={'temperature_2m': 'temp', 'surface_pressure':'pressure',\t'windspeed_10m':'wind_speed (m/s)',\t'winddirection_10m':'wind_dir'}, inplace=True)\n",
        "    df.drop(['time'], axis=1, inplace=True)\n",
        "    return df\n",
        "print(get_weather_forecast(*c1))\n",
        "print(get_weather_forecast(*c2))"
      ],
      "metadata": {
        "colab": {
          "base_uri": "https://localhost:8080/"
        },
        "id": "HWb_mM3tUXBn",
        "outputId": "0af87587-f9f4-4db8-9648-365c7f2842b1"
      },
      "execution_count": 86,
      "outputs": [
        {
          "output_type": "stream",
          "name": "stdout",
          "text": [
            "     temp  pressure  wind_speed (m/s)  wind_dir\n",
            "0    17.2    1013.6              0.89        63\n",
            "1    16.3    1013.8              0.98        66\n",
            "2    15.4    1014.0              0.95        72\n",
            "3    14.3    1013.7              1.02        79\n",
            "4    13.7    1014.2              0.91        84\n",
            "..    ...       ...               ...       ...\n",
            "163  21.4    1012.4              2.30        90\n",
            "164  20.2    1012.7              1.71        83\n",
            "165  19.1    1012.8              1.24        76\n",
            "166  18.2    1012.6              0.98        66\n",
            "167  17.4    1012.4              0.78        50\n",
            "\n",
            "[168 rows x 4 columns]\n",
            "     temp  pressure  wind_speed (m/s)  wind_dir\n",
            "0    15.9     994.0              1.51        82\n",
            "1    14.8     994.0              1.22        81\n",
            "2    13.8     994.1              1.12        80\n",
            "3    12.9     993.7              1.22        81\n",
            "4    12.6     994.0              1.20        90\n",
            "..    ...       ...               ...       ...\n",
            "163  20.0     992.8              2.86       115\n",
            "164  18.3     992.9              2.21       108\n",
            "165  16.9     992.8              1.82        99\n",
            "166  16.0     992.7              1.84       103\n",
            "167  15.4     992.6              1.97       114\n",
            "\n",
            "[168 rows x 4 columns]\n"
          ]
        }
      ]
    },
    {
      "cell_type": "code",
      "source": [
        "X.columns"
      ],
      "metadata": {
        "colab": {
          "base_uri": "https://localhost:8080/"
        },
        "id": "u4nQ4OILTuAG",
        "outputId": "ae995730-77a1-408a-8c38-d31f193a1c41"
      },
      "execution_count": 77,
      "outputs": [
        {
          "output_type": "execute_result",
          "data": {
            "text/plain": [
              "Index(['wind_speed (m/s)', 'wind_dir', 'temp', 'pressure', 'Turbine Model',\n",
              "       'Tower Height', 'Rotor Diameter', 'Production Year', 'START m/s',\n",
              "       'STOP  m/s', 'Service', 'MaxLimit'],\n",
              "      dtype='object')"
            ]
          },
          "metadata": {},
          "execution_count": 77
        }
      ]
    }
  ]
}